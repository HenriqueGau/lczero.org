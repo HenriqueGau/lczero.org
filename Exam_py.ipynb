{
  "nbformat": 4,
  "nbformat_minor": 0,
  "metadata": {
    "colab": {
      "private_outputs": true,
      "provenance": [],
      "authorship_tag": "ABX9TyOiOm9FUAzWuAnaBdzXTBJN",
      "include_colab_link": true
    },
    "kernelspec": {
      "name": "python3",
      "display_name": "Python 3"
    },
    "language_info": {
      "name": "python"
    }
  },
  "cells": [
    {
      "cell_type": "markdown",
      "metadata": {
        "id": "view-in-github",
        "colab_type": "text"
      },
      "source": [
        "<a href=\"https://colab.research.google.com/github/HenriqueGau/lczero.org/blob/master/Exam_py.ipynb\" target=\"_parent\"><img src=\"https://colab.research.google.com/assets/colab-badge.svg\" alt=\"Open In Colab\"/></a>"
      ]
    },
    {
      "cell_type": "code",
      "execution_count": null,
      "metadata": {
        "id": "ssLIKwW48C66"
      },
      "outputs": [],
      "source": [
        "'''Crie uma função para validar o recebimento de valores inteiros,\n",
        " no intervalo de 0 a 100, informados pelo usuário.'''\n",
        "\n",
        "def get_n_int_p():\n",
        "    while True:\n",
        "        try:\n",
        "            n = int(input(\"Informe um valor inteiro positivo: \"))\n",
        "            # Para checar o intervalo\n",
        "            if n >= 0 and not n <= 100:\n",
        "                print('o número tem que estar dentre o intervalo [0, 100]')\n",
        "            # Números fora do inervalo ja foram excluidos, execução\n",
        "            else:\n",
        "                return n\n",
        "        # Para não quebrar o programa, exclui texto e números não positivos\n",
        "        except:\n",
        "            print('O número precisa ser inteiro')\n",
        "get_n_int_p()"
      ]
    },
    {
      "cell_type": "code",
      "source": [
        "def get_n_int_p():\n",
        "    while True:\n",
        "        try:\n",
        "            n = int(input(\"Informe um valor inteiro positivo: \"))\n",
        "            # Para checar o intervalo\n",
        "            if n >= 0 and not n <= 100:\n",
        "                print('o número tem que estar dentre o intervalo [0, 100]')\n",
        "            # Números fora do inervalo ja foram excluidos, execução\n",
        "            else:\n",
        "                return n\n",
        "        # Para não quebrar o programa, exclui texto e números não positivos\n",
        "        except:\n",
        "            print('O número precisa ser inteiro')\n",
        "get_n_int_p()"
      ],
      "metadata": {
        "id": "SZFtH1BEB7pg"
      },
      "execution_count": null,
      "outputs": []
    },
    {
      "cell_type": "code",
      "source": [
        "get_n_int_p()"
      ],
      "metadata": {
        "id": "v2BGTm_s-coV"
      },
      "execution_count": null,
      "outputs": []
    },
    {
      "cell_type": "code",
      "source": [
        "def m_print(m):\n",
        "    #para percorrer as linhas da matriz\n",
        "    for i in m:\n",
        "        #para cada valor de cada linha\n",
        "        for valor in i:\n",
        "            #formatar o vaor para 5d para espaçar\n",
        "            print(f\"{valor:5d}\", end=\"\")\n",
        "        print()"
      ],
      "metadata": {
        "id": "XAwiQl2MCPks"
      },
      "execution_count": null,
      "outputs": []
    },
    {
      "cell_type": "code",
      "source": [
        "m_print([[1, 2, 3, 9], [4, 5, 6, 7], [7, 8, 9, 5], [1, 2, 3, 4]])"
      ],
      "metadata": {
        "id": "jVXgkRESpGMD"
      },
      "execution_count": null,
      "outputs": []
    },
    {
      "cell_type": "code",
      "source": [
        "def matrx(rw, cl):\n",
        "  # Ler a matriz dada\n",
        "  m1 = []\n",
        "  for i in range(rw):\n",
        "    l = []\n",
        "    for j in range(cl):\n",
        "      # Receber valores e adicionar a matriz\n",
        "        l.append(get_n_int_p())\n",
        "    m1.append(l)\n",
        "    m_print(m1)"
      ],
      "metadata": {
        "id": "ZMRMQmZUq_Gg"
      },
      "execution_count": null,
      "outputs": []
    },
    {
      "cell_type": "code",
      "source": [
        "matrx(3, 3)"
      ],
      "metadata": {
        "id": "ihEqlATGtWmx"
      },
      "execution_count": null,
      "outputs": []
    }
  ]
}